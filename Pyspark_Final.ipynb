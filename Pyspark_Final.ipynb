{
 "cells": [
  {
   "cell_type": "code",
   "execution_count": null,
   "id": "27cdf68d",
   "metadata": {},
   "outputs": [],
   "source": []
  },
  {
   "cell_type": "code",
   "execution_count": 50,
   "id": "af544ee1",
   "metadata": {},
   "outputs": [],
   "source": [
    "# Load our Pkgs\n",
    "# import numpy as np\n",
    "from pyspark.sql import SparkSession\n",
    "from pyspark.ml.feature import OneHotEncoder, StringIndexer, VectorAssembler, PolynomialExpansion, StandardScaler\n",
    "from pyspark.sql.functions import col\n"
   ]
  },
  {
   "cell_type": "code",
   "execution_count": 51,
   "id": "ab771917",
   "metadata": {},
   "outputs": [],
   "source": [
    "# Create a SparkSession\n",
    "spark = SparkSession.builder.appName('pyspark').getOrCreate()"
   ]
  },
  {
   "cell_type": "code",
   "execution_count": 52,
   "id": "def01ec9",
   "metadata": {},
   "outputs": [
    {
     "data": {
      "text/html": [
       "\n",
       "            <div>\n",
       "                <p><b>SparkSession - in-memory</b></p>\n",
       "                \n",
       "        <div>\n",
       "            <p><b>SparkContext</b></p>\n",
       "\n",
       "            <p><a href=\"http://Anuraj:4040\">Spark UI</a></p>\n",
       "\n",
       "            <dl>\n",
       "              <dt>Version</dt>\n",
       "                <dd><code>v3.5.0</code></dd>\n",
       "              <dt>Master</dt>\n",
       "                <dd><code>local[*]</code></dd>\n",
       "              <dt>AppName</dt>\n",
       "                <dd><code>pyspark</code></dd>\n",
       "            </dl>\n",
       "        </div>\n",
       "        \n",
       "            </div>\n",
       "        "
      ],
      "text/plain": [
       "<pyspark.sql.session.SparkSession at 0x1d094f68610>"
      ]
     },
     "execution_count": 52,
     "metadata": {},
     "output_type": "execute_result"
    }
   ],
   "source": [
    "spark"
   ]
  },
  {
   "cell_type": "code",
   "execution_count": 53,
   "id": "ab3cbdeb",
   "metadata": {},
   "outputs": [],
   "source": [
    "# Read the CSV file\n",
    "df = spark.read.csv('Combined_Flights_2022.csv', inferSchema=True, header=True)"
   ]
  },
  {
   "cell_type": "code",
   "execution_count": 54,
   "id": "8476a67d",
   "metadata": {},
   "outputs": [
    {
     "name": "stdout",
     "output_type": "stream",
     "text": [
      "Number of rows:  4078318\n",
      "Number of columns:  61\n"
     ]
    }
   ],
   "source": [
    "# Number of rows\n",
    "num_rows = df.count()\n",
    "\n",
    "# Number of columns\n",
    "num_cols = len(df.columns)\n",
    "\n",
    "print(\"Number of rows: \", num_rows)\n",
    "print(\"Number of columns: \", num_cols)\n"
   ]
  },
  {
   "cell_type": "code",
   "execution_count": 55,
   "id": "d80046a3",
   "metadata": {},
   "outputs": [
    {
     "name": "stdout",
     "output_type": "stream",
     "text": [
      "+----------+--------------------+------+----+---------+--------+----------+-------+---------------+--------+-------+---------------+-------+--------------+-----------------+--------+----+-------+-----+----------+---------+-------------------------+---------------------------------------+------------------------+---------------------------+-------------------------------+-----------------+------------------------+---------------------------+-----------+-------------------------------+---------------+------------------+------------------+--------------------+-----------+---------------+---------------+---------+-------------+----------------+----------------+-------------------+---------+-------------+-------------+-------+--------+--------------------+----------+-------+---------+--------+------+----------+--------+--------+------------------+----------+-------------+------------------+\n",
      "|FlightDate|             Airline|Origin|Dest|Cancelled|Diverted|CRSDepTime|DepTime|DepDelayMinutes|DepDelay|ArrTime|ArrDelayMinutes|AirTime|CRSElapsedTime|ActualElapsedTime|Distance|Year|Quarter|Month|DayofMonth|DayOfWeek|Marketing_Airline_Network|Operated_or_Branded_Code_Share_Partners|DOT_ID_Marketing_Airline|IATA_Code_Marketing_Airline|Flight_Number_Marketing_Airline|Operating_Airline|DOT_ID_Operating_Airline|IATA_Code_Operating_Airline|Tail_Number|Flight_Number_Operating_Airline|OriginAirportID|OriginAirportSeqID|OriginCityMarketID|      OriginCityName|OriginState|OriginStateFips|OriginStateName|OriginWac|DestAirportID|DestAirportSeqID|DestCityMarketID|       DestCityName|DestState|DestStateFips|DestStateName|DestWac|DepDel15|DepartureDelayGroups|DepTimeBlk|TaxiOut|WheelsOff|WheelsOn|TaxiIn|CRSArrTime|ArrDelay|ArrDel15|ArrivalDelayGroups|ArrTimeBlk|DistanceGroup|DivAirportLandings|\n",
      "+----------+--------------------+------+----+---------+--------+----------+-------+---------------+--------+-------+---------------+-------+--------------+-----------------+--------+----+-------+-----+----------+---------+-------------------------+---------------------------------------+------------------------+---------------------------+-------------------------------+-----------------+------------------------+---------------------------+-----------+-------------------------------+---------------+------------------+------------------+--------------------+-----------+---------------+---------------+---------+-------------+----------------+----------------+-------------------+---------+-------------+-------------+-------+--------+--------------------+----------+-------+---------+--------+------+----------+--------+--------+------------------+----------+-------------+------------------+\n",
      "|2022-04-04|Commutair Aka Cha...|   GJT| DEN|    false|   false|      1133| 1123.0|            0.0|   -10.0| 1228.0|            0.0|   40.0|          72.0|             65.0|   212.0|2022|      2|    4|         4|        1|                       UA|                           UA_CODESHARE|                   19977|                         UA|                           4301|               C5|                   20445|                         C5|     N21144|                           4301|          11921|           1192102|             31921|  Grand Junction, CO|         CO|              8|       Colorado|       82|        11292|         1129202|           30325|         Denver, CO|       CO|            8|     Colorado|     82|     0.0|                -1.0| 1100-1159|   17.0|   1140.0|  1220.0|   8.0|      1245|   -17.0|     0.0|              -2.0| 1200-1259|            1|                 0|\n",
      "|2022-04-04|Commutair Aka Cha...|   HRL| IAH|    false|   false|       732|  728.0|            0.0|    -4.0|  848.0|            0.0|   55.0|          77.0|             80.0|   295.0|2022|      2|    4|         4|        1|                       UA|                           UA_CODESHARE|                   19977|                         UA|                           4299|               C5|                   20445|                         C5|     N16170|                           4299|          12206|           1220605|             32206|Harlingen/San Ben...|         TX|             48|          Texas|       74|        12266|         1226603|           31453|        Houston, TX|       TX|           48|        Texas|     74|     0.0|                -1.0| 0700-0759|   16.0|    744.0|   839.0|   9.0|       849|    -1.0|     0.0|              -1.0| 0800-0859|            2|                 0|\n",
      "|2022-04-04|Commutair Aka Cha...|   DRO| DEN|    false|   false|      1529| 1514.0|            0.0|   -15.0| 1636.0|            0.0|   47.0|          70.0|             82.0|   251.0|2022|      2|    4|         4|        1|                       UA|                           UA_CODESHARE|                   19977|                         UA|                           4298|               C5|                   20445|                         C5|     N21144|                           4298|          11413|           1141307|             30285|         Durango, CO|         CO|              8|       Colorado|       82|        11292|         1129202|           30325|         Denver, CO|       CO|            8|     Colorado|     82|     0.0|                -1.0| 1500-1559|   21.0|   1535.0|  1622.0|  14.0|      1639|    -3.0|     0.0|              -1.0| 1600-1659|            2|                 0|\n",
      "|2022-04-04|Commutair Aka Cha...|   IAH| GPT|    false|   false|      1435| 1430.0|            0.0|    -5.0| 1547.0|            0.0|   57.0|          90.0|             77.0|   376.0|2022|      2|    4|         4|        1|                       UA|                           UA_CODESHARE|                   19977|                         UA|                           4296|               C5|                   20445|                         C5|     N11184|                           4296|          12266|           1226603|             31453|         Houston, TX|         TX|             48|          Texas|       74|        11973|         1197302|           31973|Gulfport/Biloxi, MS|       MS|           28|  Mississippi|     53|     0.0|                -1.0| 1400-1459|   16.0|   1446.0|  1543.0|   4.0|      1605|   -18.0|     0.0|              -2.0| 1600-1659|            2|                 0|\n",
      "|2022-04-04|Commutair Aka Cha...|   DRO| DEN|    false|   false|      1135| 1135.0|            0.0|     0.0| 1251.0|            6.0|   49.0|          70.0|             76.0|   251.0|2022|      2|    4|         4|        1|                       UA|                           UA_CODESHARE|                   19977|                         UA|                           4295|               C5|                   20445|                         C5|     N17146|                           4295|          11413|           1141307|             30285|         Durango, CO|         CO|              8|       Colorado|       82|        11292|         1129202|           30325|         Denver, CO|       CO|            8|     Colorado|     82|     0.0|                 0.0| 1100-1159|   19.0|   1154.0|  1243.0|   8.0|      1245|     6.0|     0.0|               0.0| 1200-1259|            2|                 0|\n",
      "+----------+--------------------+------+----+---------+--------+----------+-------+---------------+--------+-------+---------------+-------+--------------+-----------------+--------+----+-------+-----+----------+---------+-------------------------+---------------------------------------+------------------------+---------------------------+-------------------------------+-----------------+------------------------+---------------------------+-----------+-------------------------------+---------------+------------------+------------------+--------------------+-----------+---------------+---------------+---------+-------------+----------------+----------------+-------------------+---------+-------------+-------------+-------+--------+--------------------+----------+-------+---------+--------+------+----------+--------+--------+------------------+----------+-------------+------------------+\n",
      "only showing top 5 rows\n",
      "\n"
     ]
    }
   ],
   "source": [
    "df.show(5)"
   ]
  },
  {
   "cell_type": "code",
   "execution_count": 56,
   "id": "5f69b4e3",
   "metadata": {},
   "outputs": [
    {
     "name": "stdout",
     "output_type": "stream",
     "text": [
      "root\n",
      " |-- FlightDate: date (nullable = true)\n",
      " |-- Airline: string (nullable = true)\n",
      " |-- Origin: string (nullable = true)\n",
      " |-- Dest: string (nullable = true)\n",
      " |-- Cancelled: boolean (nullable = true)\n",
      " |-- Diverted: boolean (nullable = true)\n",
      " |-- CRSDepTime: integer (nullable = true)\n",
      " |-- DepTime: double (nullable = true)\n",
      " |-- DepDelayMinutes: double (nullable = true)\n",
      " |-- DepDelay: double (nullable = true)\n",
      " |-- ArrTime: double (nullable = true)\n",
      " |-- ArrDelayMinutes: double (nullable = true)\n",
      " |-- AirTime: double (nullable = true)\n",
      " |-- CRSElapsedTime: double (nullable = true)\n",
      " |-- ActualElapsedTime: double (nullable = true)\n",
      " |-- Distance: double (nullable = true)\n",
      " |-- Year: integer (nullable = true)\n",
      " |-- Quarter: integer (nullable = true)\n",
      " |-- Month: integer (nullable = true)\n",
      " |-- DayofMonth: integer (nullable = true)\n",
      " |-- DayOfWeek: integer (nullable = true)\n",
      " |-- Marketing_Airline_Network: string (nullable = true)\n",
      " |-- Operated_or_Branded_Code_Share_Partners: string (nullable = true)\n",
      " |-- DOT_ID_Marketing_Airline: integer (nullable = true)\n",
      " |-- IATA_Code_Marketing_Airline: string (nullable = true)\n",
      " |-- Flight_Number_Marketing_Airline: integer (nullable = true)\n",
      " |-- Operating_Airline: string (nullable = true)\n",
      " |-- DOT_ID_Operating_Airline: integer (nullable = true)\n",
      " |-- IATA_Code_Operating_Airline: string (nullable = true)\n",
      " |-- Tail_Number: string (nullable = true)\n",
      " |-- Flight_Number_Operating_Airline: integer (nullable = true)\n",
      " |-- OriginAirportID: integer (nullable = true)\n",
      " |-- OriginAirportSeqID: integer (nullable = true)\n",
      " |-- OriginCityMarketID: integer (nullable = true)\n",
      " |-- OriginCityName: string (nullable = true)\n",
      " |-- OriginState: string (nullable = true)\n",
      " |-- OriginStateFips: integer (nullable = true)\n",
      " |-- OriginStateName: string (nullable = true)\n",
      " |-- OriginWac: integer (nullable = true)\n",
      " |-- DestAirportID: integer (nullable = true)\n",
      " |-- DestAirportSeqID: integer (nullable = true)\n",
      " |-- DestCityMarketID: integer (nullable = true)\n",
      " |-- DestCityName: string (nullable = true)\n",
      " |-- DestState: string (nullable = true)\n",
      " |-- DestStateFips: integer (nullable = true)\n",
      " |-- DestStateName: string (nullable = true)\n",
      " |-- DestWac: integer (nullable = true)\n",
      " |-- DepDel15: double (nullable = true)\n",
      " |-- DepartureDelayGroups: double (nullable = true)\n",
      " |-- DepTimeBlk: string (nullable = true)\n",
      " |-- TaxiOut: double (nullable = true)\n",
      " |-- WheelsOff: double (nullable = true)\n",
      " |-- WheelsOn: double (nullable = true)\n",
      " |-- TaxiIn: double (nullable = true)\n",
      " |-- CRSArrTime: integer (nullable = true)\n",
      " |-- ArrDelay: double (nullable = true)\n",
      " |-- ArrDel15: double (nullable = true)\n",
      " |-- ArrivalDelayGroups: double (nullable = true)\n",
      " |-- ArrTimeBlk: string (nullable = true)\n",
      " |-- DistanceGroup: integer (nullable = true)\n",
      " |-- DivAirportLandings: integer (nullable = true)\n",
      "\n"
     ]
    }
   ],
   "source": [
    "df.printSchema()"
   ]
  },
  {
   "cell_type": "code",
   "execution_count": 57,
   "id": "c50fb5bc",
   "metadata": {},
   "outputs": [
    {
     "name": "stdout",
     "output_type": "stream",
     "text": [
      "+----------+-------+------+----+---------+--------+----------+-------+---------------+--------+-------+---------------+-------+--------------+-----------------+--------+----+-------+-----+----------+---------+-------------------------+---------------------------------------+------------------------+---------------------------+-------------------------------+-----------------+------------------------+---------------------------+-----------+-------------------------------+---------------+------------------+------------------+--------------+-----------+---------------+---------------+---------+-------------+----------------+----------------+------------+---------+-------------+-------------+-------+--------+--------------------+----------+-------+---------+--------+------+----------+--------+--------+------------------+----------+-------------+------------------+\n",
      "|FlightDate|Airline|Origin|Dest|Cancelled|Diverted|CRSDepTime|DepTime|DepDelayMinutes|DepDelay|ArrTime|ArrDelayMinutes|AirTime|CRSElapsedTime|ActualElapsedTime|Distance|Year|Quarter|Month|DayofMonth|DayOfWeek|Marketing_Airline_Network|Operated_or_Branded_Code_Share_Partners|DOT_ID_Marketing_Airline|IATA_Code_Marketing_Airline|Flight_Number_Marketing_Airline|Operating_Airline|DOT_ID_Operating_Airline|IATA_Code_Operating_Airline|Tail_Number|Flight_Number_Operating_Airline|OriginAirportID|OriginAirportSeqID|OriginCityMarketID|OriginCityName|OriginState|OriginStateFips|OriginStateName|OriginWac|DestAirportID|DestAirportSeqID|DestCityMarketID|DestCityName|DestState|DestStateFips|DestStateName|DestWac|DepDel15|DepartureDelayGroups|DepTimeBlk|TaxiOut|WheelsOff|WheelsOn|TaxiIn|CRSArrTime|ArrDelay|ArrDel15|ArrivalDelayGroups|ArrTimeBlk|DistanceGroup|DivAirportLandings|\n",
      "+----------+-------+------+----+---------+--------+----------+-------+---------------+--------+-------+---------------+-------+--------------+-----------------+--------+----+-------+-----+----------+---------+-------------------------+---------------------------------------+------------------------+---------------------------+-------------------------------+-----------------+------------------------+---------------------------+-----------+-------------------------------+---------------+------------------+------------------+--------------+-----------+---------------+---------------+---------+-------------+----------------+----------------+------------+---------+-------------+-------------+-------+--------+--------------------+----------+-------+---------+--------+------+----------+--------+--------+------------------+----------+-------------+------------------+\n",
      "|         0|      0|     0|   0|        0|       0|         0| 120433|         120495|  120495| 124239|         133402| 133402|             0|           133402|       0|   0|      0|    0|         0|        0|                        0|                                      0|                       0|                          0|                              0|                0|                       0|                          0|      26795|                              0|              0|                 0|                 0|             0|          0|              0|              0|        0|            0|               0|               0|           0|        0|            0|            0|      0|  120495|              120495|         0| 122666|   122666|  124242|124242|         0|  133402|  133402|            133402|         0|            0|                 0|\n",
      "+----------+-------+------+----+---------+--------+----------+-------+---------------+--------+-------+---------------+-------+--------------+-----------------+--------+----+-------+-----+----------+---------+-------------------------+---------------------------------------+------------------------+---------------------------+-------------------------------+-----------------+------------------------+---------------------------+-----------+-------------------------------+---------------+------------------+------------------+--------------+-----------+---------------+---------------+---------+-------------+----------------+----------------+------------+---------+-------------+-------------+-------+--------+--------------------+----------+-------+---------+--------+------+----------+--------+--------+------------------+----------+-------------+------------------+\n",
      "\n"
     ]
    }
   ],
   "source": [
    "from pyspark.sql.functions import col, sum as _sum\n",
    "\n",
    "df_agg = df.agg(*[_sum(col(c).isNull().cast(\"int\")).alias(c) for c in df.columns])\n",
    "df_agg.show()\n"
   ]
  },
  {
   "cell_type": "code",
   "execution_count": 58,
   "id": "fdab5bf2",
   "metadata": {},
   "outputs": [
    {
     "name": "stdout",
     "output_type": "stream",
     "text": [
      "+----------+-------+------+----+---------+--------+----------+------------------+------------------+------------------+-----------------+------------------+------------------+--------------+------------------+--------+----+-------+-----+----------+---------+-------------------------+---------------------------------------+------------------------+---------------------------+-------------------------------+-----------------+------------------------+---------------------------+------------------+-------------------------------+---------------+------------------+------------------+--------------+-----------+---------------+---------------+---------+-------------+----------------+----------------+------------+---------+-------------+-------------+-------+------------------+--------------------+----------+------------------+------------------+-----------------+-----------------+----------+------------------+------------------+------------------+----------+-------------+------------------+\n",
      "|FlightDate|Airline|Origin|Dest|Cancelled|Diverted|CRSDepTime|           DepTime|   DepDelayMinutes|          DepDelay|          ArrTime|   ArrDelayMinutes|           AirTime|CRSElapsedTime| ActualElapsedTime|Distance|Year|Quarter|Month|DayofMonth|DayOfWeek|Marketing_Airline_Network|Operated_or_Branded_Code_Share_Partners|DOT_ID_Marketing_Airline|IATA_Code_Marketing_Airline|Flight_Number_Marketing_Airline|Operating_Airline|DOT_ID_Operating_Airline|IATA_Code_Operating_Airline|       Tail_Number|Flight_Number_Operating_Airline|OriginAirportID|OriginAirportSeqID|OriginCityMarketID|OriginCityName|OriginState|OriginStateFips|OriginStateName|OriginWac|DestAirportID|DestAirportSeqID|DestCityMarketID|DestCityName|DestState|DestStateFips|DestStateName|DestWac|          DepDel15|DepartureDelayGroups|DepTimeBlk|           TaxiOut|         WheelsOff|         WheelsOn|           TaxiIn|CRSArrTime|          ArrDelay|          ArrDel15|ArrivalDelayGroups|ArrTimeBlk|DistanceGroup|DivAirportLandings|\n",
      "+----------+-------+------+----+---------+--------+----------+------------------+------------------+------------------+-----------------+------------------+------------------+--------------+------------------+--------+----+-------+-----+----------+---------+-------------------------+---------------------------------------+------------------------+---------------------------+-------------------------------+-----------------+------------------------+---------------------------+------------------+-------------------------------+---------------+------------------+------------------+--------------+-----------+---------------+---------------+---------+-------------+----------------+----------------+------------+---------+-------------+-------------+-------+------------------+--------------------+----------+------------------+------------------+-----------------+-----------------+----------+------------------+------------------+------------------+----------+-------------+------------------+\n",
      "|       0.0|    0.0|   0.0| 0.0|      0.0|     0.0|       0.0|2.9530066071355887|2.9545268417028785|2.9545268417028785|3.046329393637279|3.2710053507352788|3.2710053507352788|           0.0|3.2710053507352788|     0.0| 0.0|    0.0|  0.0|       0.0|      0.0|                      0.0|                                    0.0|                     0.0|                        0.0|                            0.0|              0.0|                     0.0|                        0.0|0.6570110521053042|                            0.0|            0.0|               0.0|               0.0|           0.0|        0.0|            0.0|            0.0|      0.0|          0.0|             0.0|             0.0|         0.0|      0.0|          0.0|          0.0|    0.0|2.9545268417028785|  2.9545268417028785|       0.0|3.0077595714703955|3.0077595714703955|3.046402953374406|3.046402953374406|       0.0|3.2710053507352788|3.2710053507352788|3.2710053507352788|       0.0|          0.0|               0.0|\n",
      "+----------+-------+------+----+---------+--------+----------+------------------+------------------+------------------+-----------------+------------------+------------------+--------------+------------------+--------+----+-------+-----+----------+---------+-------------------------+---------------------------------------+------------------------+---------------------------+-------------------------------+-----------------+------------------------+---------------------------+------------------+-------------------------------+---------------+------------------+------------------+--------------+-----------+---------------+---------------+---------+-------------+----------------+----------------+------------+---------+-------------+-------------+-------+------------------+--------------------+----------+------------------+------------------+-----------------+-----------------+----------+------------------+------------------+------------------+----------+-------------+------------------+\n",
      "\n"
     ]
    }
   ],
   "source": [
    "from pyspark.sql.functions import col, sum as _sum\n",
    "\n",
    "# Calculate the percentage of null values in each column\n",
    "df_agg = df.agg(*[((_sum(col(c).isNull().cast(\"int\")) / df.count()) * 100).alias(c) for c in df.columns])\n",
    "\n",
    "# Display the results in descending order\n",
    "df_agg.orderBy([col(c).desc() for c in df.columns]).show(50)\n"
   ]
  },
  {
   "cell_type": "code",
   "execution_count": 59,
   "id": "c688ff01",
   "metadata": {},
   "outputs": [],
   "source": [
    "from pyspark.sql.functions import col, first\n",
    "\n",
    "# Calculate the mode of the 'Tail_Number' column\n",
    "mode = df.groupBy('Tail_Number').count().orderBy(col('count').desc()).select(first('Tail_Number')).collect()[0][0]\n",
    "\n",
    "# Check if the mode is null\n",
    "if mode is not None:\n",
    "    # Fill null values with the mode\n",
    "    df = df.fillna({'Tail_Number': mode})\n",
    "else:\n",
    "    # Fill null values with a default value or another valid value\n",
    "    df = df.fillna({'Tail_Number': 'N475HA'})\n",
    "\n"
   ]
  },
  {
   "cell_type": "code",
   "execution_count": null,
   "id": "13c9e8d3",
   "metadata": {},
   "outputs": [],
   "source": []
  },
  {
   "cell_type": "code",
   "execution_count": 60,
   "id": "29f1eec1",
   "metadata": {},
   "outputs": [],
   "source": [
    "from pyspark.sql.functions import col\n",
    "\n",
    "cols = [\"AirTime\", \"ArrivalDelayGroups\", \"ArrDel15\", \"ArrDelay\", \"ActualElapsedTime\", \"ArrDelayMinutes\", \"WheelsOn\", \"TaxiIn\", \n",
    "\"ArrTime\", \"TaxiOut\", \"WheelsOff\", \"DepDelay\", \"DepDelayMinutes\", \"DepartureDelayGroups\", \"DepDel15\", \"DepTime\"]\n",
    "\n",
    "for c in cols:\n",
    "    median = df.approxQuantile(c, [0.5], 0.25)[0]\n",
    "    df = df.fillna({c: median})\n"
   ]
  },
  {
   "cell_type": "code",
   "execution_count": 61,
   "id": "797f68aa",
   "metadata": {},
   "outputs": [
    {
     "name": "stdout",
     "output_type": "stream",
     "text": [
      "+----------+-------+------+----+---------+--------+----------+-------+---------------+--------+-------+---------------+-------+--------------+-----------------+--------+----+-------+-----+----------+---------+-------------------------+---------------------------------------+------------------------+---------------------------+-------------------------------+-----------------+------------------------+---------------------------+-----------+-------------------------------+---------------+------------------+------------------+--------------+-----------+---------------+---------------+---------+-------------+----------------+----------------+------------+---------+-------------+-------------+-------+--------+--------------------+----------+-------+---------+--------+------+----------+--------+--------+------------------+----------+-------------+------------------+\n",
      "|FlightDate|Airline|Origin|Dest|Cancelled|Diverted|CRSDepTime|DepTime|DepDelayMinutes|DepDelay|ArrTime|ArrDelayMinutes|AirTime|CRSElapsedTime|ActualElapsedTime|Distance|Year|Quarter|Month|DayofMonth|DayOfWeek|Marketing_Airline_Network|Operated_or_Branded_Code_Share_Partners|DOT_ID_Marketing_Airline|IATA_Code_Marketing_Airline|Flight_Number_Marketing_Airline|Operating_Airline|DOT_ID_Operating_Airline|IATA_Code_Operating_Airline|Tail_Number|Flight_Number_Operating_Airline|OriginAirportID|OriginAirportSeqID|OriginCityMarketID|OriginCityName|OriginState|OriginStateFips|OriginStateName|OriginWac|DestAirportID|DestAirportSeqID|DestCityMarketID|DestCityName|DestState|DestStateFips|DestStateName|DestWac|DepDel15|DepartureDelayGroups|DepTimeBlk|TaxiOut|WheelsOff|WheelsOn|TaxiIn|CRSArrTime|ArrDelay|ArrDel15|ArrivalDelayGroups|ArrTimeBlk|DistanceGroup|DivAirportLandings|\n",
      "+----------+-------+------+----+---------+--------+----------+-------+---------------+--------+-------+---------------+-------+--------------+-----------------+--------+----+-------+-----+----------+---------+-------------------------+---------------------------------------+------------------------+---------------------------+-------------------------------+-----------------+------------------------+---------------------------+-----------+-------------------------------+---------------+------------------+------------------+--------------+-----------+---------------+---------------+---------+-------------+----------------+----------------+------------+---------+-------------+-------------+-------+--------+--------------------+----------+-------+---------+--------+------+----------+--------+--------+------------------+----------+-------------+------------------+\n",
      "|         0|      0|     0|   0|        0|       0|         0|      0|              0|       0|      0|              0|      0|             0|                0|       0|   0|      0|    0|         0|        0|                        0|                                      0|                       0|                          0|                              0|                0|                       0|                          0|          0|                              0|              0|                 0|                 0|             0|          0|              0|              0|        0|            0|               0|               0|           0|        0|            0|            0|      0|       0|                   0|         0|      0|        0|       0|     0|         0|       0|       0|                 0|         0|            0|                 0|\n",
      "+----------+-------+------+----+---------+--------+----------+-------+---------------+--------+-------+---------------+-------+--------------+-----------------+--------+----+-------+-----+----------+---------+-------------------------+---------------------------------------+------------------------+---------------------------+-------------------------------+-----------------+------------------------+---------------------------+-----------+-------------------------------+---------------+------------------+------------------+--------------+-----------+---------------+---------------+---------+-------------+----------------+----------------+------------+---------+-------------+-------------+-------+--------+--------------------+----------+-------+---------+--------+------+----------+--------+--------+------------------+----------+-------------+------------------+\n",
      "\n"
     ]
    }
   ],
   "source": [
    "df_agg = df.agg(*[_sum(col(c).isNull().cast(\"int\")).alias(c) for c in df.columns])\n",
    "df_agg.show()"
   ]
  },
  {
   "cell_type": "code",
   "execution_count": 62,
   "id": "1c6bcdd1",
   "metadata": {},
   "outputs": [
    {
     "name": "stdout",
     "output_type": "stream",
     "text": [
      "root\n",
      " |-- FlightDate: date (nullable = true)\n",
      " |-- Airline: string (nullable = true)\n",
      " |-- Origin: string (nullable = true)\n",
      " |-- Dest: string (nullable = true)\n",
      " |-- Cancelled: boolean (nullable = true)\n",
      " |-- Diverted: boolean (nullable = true)\n",
      " |-- CRSDepTime: integer (nullable = true)\n",
      " |-- DepTime: double (nullable = false)\n",
      " |-- DepDelayMinutes: double (nullable = false)\n",
      " |-- DepDelay: double (nullable = false)\n",
      " |-- ArrTime: double (nullable = false)\n",
      " |-- ArrDelayMinutes: double (nullable = false)\n",
      " |-- AirTime: double (nullable = false)\n",
      " |-- CRSElapsedTime: double (nullable = true)\n",
      " |-- ActualElapsedTime: double (nullable = false)\n",
      " |-- Distance: double (nullable = true)\n",
      " |-- Year: integer (nullable = true)\n",
      " |-- Quarter: integer (nullable = true)\n",
      " |-- Month: integer (nullable = true)\n",
      " |-- DayofMonth: integer (nullable = true)\n",
      " |-- DayOfWeek: integer (nullable = true)\n",
      " |-- Marketing_Airline_Network: string (nullable = true)\n",
      " |-- Operated_or_Branded_Code_Share_Partners: string (nullable = true)\n",
      " |-- DOT_ID_Marketing_Airline: integer (nullable = true)\n",
      " |-- IATA_Code_Marketing_Airline: string (nullable = true)\n",
      " |-- Flight_Number_Marketing_Airline: integer (nullable = true)\n",
      " |-- Operating_Airline: string (nullable = true)\n",
      " |-- DOT_ID_Operating_Airline: integer (nullable = true)\n",
      " |-- IATA_Code_Operating_Airline: string (nullable = true)\n",
      " |-- Tail_Number: string (nullable = false)\n",
      " |-- Flight_Number_Operating_Airline: integer (nullable = true)\n",
      " |-- OriginAirportID: integer (nullable = true)\n",
      " |-- OriginAirportSeqID: integer (nullable = true)\n",
      " |-- OriginCityMarketID: integer (nullable = true)\n",
      " |-- OriginCityName: string (nullable = true)\n",
      " |-- OriginState: string (nullable = true)\n",
      " |-- OriginStateFips: integer (nullable = true)\n",
      " |-- OriginStateName: string (nullable = true)\n",
      " |-- OriginWac: integer (nullable = true)\n",
      " |-- DestAirportID: integer (nullable = true)\n",
      " |-- DestAirportSeqID: integer (nullable = true)\n",
      " |-- DestCityMarketID: integer (nullable = true)\n",
      " |-- DestCityName: string (nullable = true)\n",
      " |-- DestState: string (nullable = true)\n",
      " |-- DestStateFips: integer (nullable = true)\n",
      " |-- DestStateName: string (nullable = true)\n",
      " |-- DestWac: integer (nullable = true)\n",
      " |-- DepDel15: double (nullable = false)\n",
      " |-- DepartureDelayGroups: double (nullable = false)\n",
      " |-- DepTimeBlk: string (nullable = true)\n",
      " |-- TaxiOut: double (nullable = false)\n",
      " |-- WheelsOff: double (nullable = false)\n",
      " |-- WheelsOn: double (nullable = false)\n",
      " |-- TaxiIn: double (nullable = false)\n",
      " |-- CRSArrTime: integer (nullable = true)\n",
      " |-- ArrDelay: double (nullable = false)\n",
      " |-- ArrDel15: double (nullable = false)\n",
      " |-- ArrivalDelayGroups: double (nullable = false)\n",
      " |-- ArrTimeBlk: string (nullable = true)\n",
      " |-- DistanceGroup: integer (nullable = true)\n",
      " |-- DivAirportLandings: integer (nullable = true)\n",
      "\n"
     ]
    }
   ],
   "source": [
    "df.printSchema()"
   ]
  },
  {
   "cell_type": "code",
   "execution_count": null,
   "id": "c033b982",
   "metadata": {},
   "outputs": [],
   "source": [
    "\n",
    "from pyspark.sql import functions as F\n",
    "\n",
    "df = df.withColumn(\n",
    "    \"DelayGroup\",\n",
    "    F.when(df[\"Cancelled\"], \"Cancelled\")\n",
    "    .otherwise(\n",
    "        F.when(df[\"DepDelayMinutes\"] == 0, \"OnTime_Early\")\n",
    "        .otherwise(\n",
    "            F.when((df[\"DepDelayMinutes\"] > 0) & (df[\"DepDelayMinutes\"] <= 15), \"Small_Delay\")\n",
    "            .otherwise(\n",
    "                F.when((df[\"DepDelayMinutes\"] > 15) & (df[\"DepDelayMinutes\"] <= 45), \"Medium_Delay\")\n",
    "                .otherwise(\n",
    "                    F.when(df[\"DepDelayMinutes\"] > 45, \"Large_Delay\")\n",
    "                )\n",
    "            )\n",
    "        )\n",
    "    )\n",
    ")\n"
   ]
  },
  {
   "cell_type": "code",
   "execution_count": null,
   "id": "7d131950",
   "metadata": {},
   "outputs": [],
   "source": [
    "unique_values = df.select(\"DelayGroup\").distinct()\n",
    "unique_values.show()\n"
   ]
  },
  {
   "cell_type": "code",
   "execution_count": 63,
   "id": "453b39cc",
   "metadata": {},
   "outputs": [],
   "source": [
    "from pyspark.sql.types import StringType\n",
    "from pyspark.ml.feature import StringIndexer\n",
    "\n",
    "# Select string columns\n",
    "string_cols = [f.name for f in df.schema.fields if f.dataType == StringType()]\n",
    "\n",
    "# Apply StringIndexer to each column\n",
    "for col in string_cols:\n",
    "    indexer = StringIndexer(inputCol=col, outputCol=col+\"_index\")\n",
    "    df = indexer.fit(df).transform(df)\n",
    "    df = df.drop(col)\n",
    "    df = df.withColumnRenamed(col+\"_index\", col)\n",
    "    "
   ]
  },
  {
   "cell_type": "code",
   "execution_count": 64,
   "id": "6d9248c6",
   "metadata": {},
   "outputs": [],
   "source": [
    "from pyspark.sql.functions import when, col\n",
    "from pyspark.sql.types import BooleanType, IntegerType\n",
    "\n",
    "# Select boolean columns\n",
    "bool_cols = [f.name for f in df.schema.fields if f.dataType == BooleanType()]\n",
    "\n",
    "# Apply transformation to each column\n",
    "for c in bool_cols:\n",
    "    df = df.withColumn(c, when(col(c) == True, 1).otherwise(0).cast(IntegerType()))\n"
   ]
  },
  {
   "cell_type": "code",
   "execution_count": null,
   "id": "9549039c",
   "metadata": {},
   "outputs": [],
   "source": []
  },
  {
   "cell_type": "code",
   "execution_count": 65,
   "id": "47fe65fb",
   "metadata": {},
   "outputs": [
    {
     "name": "stdout",
     "output_type": "stream",
     "text": [
      "root\n",
      " |-- FlightDate: date (nullable = true)\n",
      " |-- Cancelled: integer (nullable = false)\n",
      " |-- Diverted: integer (nullable = false)\n",
      " |-- CRSDepTime: integer (nullable = true)\n",
      " |-- DepTime: double (nullable = false)\n",
      " |-- DepDelayMinutes: double (nullable = false)\n",
      " |-- DepDelay: double (nullable = false)\n",
      " |-- ArrTime: double (nullable = false)\n",
      " |-- ArrDelayMinutes: double (nullable = false)\n",
      " |-- AirTime: double (nullable = false)\n",
      " |-- CRSElapsedTime: double (nullable = true)\n",
      " |-- ActualElapsedTime: double (nullable = false)\n",
      " |-- Distance: double (nullable = true)\n",
      " |-- Year: integer (nullable = true)\n",
      " |-- Quarter: integer (nullable = true)\n",
      " |-- Month: integer (nullable = true)\n",
      " |-- DayofMonth: integer (nullable = true)\n",
      " |-- DayOfWeek: integer (nullable = true)\n",
      " |-- DOT_ID_Marketing_Airline: integer (nullable = true)\n",
      " |-- Flight_Number_Marketing_Airline: integer (nullable = true)\n",
      " |-- DOT_ID_Operating_Airline: integer (nullable = true)\n",
      " |-- Flight_Number_Operating_Airline: integer (nullable = true)\n",
      " |-- OriginAirportID: integer (nullable = true)\n",
      " |-- OriginAirportSeqID: integer (nullable = true)\n",
      " |-- OriginCityMarketID: integer (nullable = true)\n",
      " |-- OriginStateFips: integer (nullable = true)\n",
      " |-- OriginWac: integer (nullable = true)\n",
      " |-- DestAirportID: integer (nullable = true)\n",
      " |-- DestAirportSeqID: integer (nullable = true)\n",
      " |-- DestCityMarketID: integer (nullable = true)\n",
      " |-- DestStateFips: integer (nullable = true)\n",
      " |-- DestWac: integer (nullable = true)\n",
      " |-- DepDel15: double (nullable = false)\n",
      " |-- DepartureDelayGroups: double (nullable = false)\n",
      " |-- TaxiOut: double (nullable = false)\n",
      " |-- WheelsOff: double (nullable = false)\n",
      " |-- WheelsOn: double (nullable = false)\n",
      " |-- TaxiIn: double (nullable = false)\n",
      " |-- CRSArrTime: integer (nullable = true)\n",
      " |-- ArrDelay: double (nullable = false)\n",
      " |-- ArrDel15: double (nullable = false)\n",
      " |-- ArrivalDelayGroups: double (nullable = false)\n",
      " |-- DistanceGroup: integer (nullable = true)\n",
      " |-- DivAirportLandings: integer (nullable = true)\n",
      " |-- Airline: double (nullable = false)\n",
      " |-- Origin: double (nullable = false)\n",
      " |-- Dest: double (nullable = false)\n",
      " |-- Marketing_Airline_Network: double (nullable = false)\n",
      " |-- Operated_or_Branded_Code_Share_Partners: double (nullable = false)\n",
      " |-- IATA_Code_Marketing_Airline: double (nullable = false)\n",
      " |-- Operating_Airline: double (nullable = false)\n",
      " |-- IATA_Code_Operating_Airline: double (nullable = false)\n",
      " |-- Tail_Number: double (nullable = false)\n",
      " |-- OriginCityName: double (nullable = false)\n",
      " |-- OriginState: double (nullable = false)\n",
      " |-- OriginStateName: double (nullable = false)\n",
      " |-- DestCityName: double (nullable = false)\n",
      " |-- DestState: double (nullable = false)\n",
      " |-- DestStateName: double (nullable = false)\n",
      " |-- DepTimeBlk: double (nullable = false)\n",
      " |-- ArrTimeBlk: double (nullable = false)\n",
      "\n"
     ]
    }
   ],
   "source": [
    "df.printSchema()"
   ]
  },
  {
   "cell_type": "code",
   "execution_count": 66,
   "id": "7248af37",
   "metadata": {},
   "outputs": [
    {
     "name": "stdout",
     "output_type": "stream",
     "text": [
      "DepDelayMinutes: 0.9979355801214388\n",
      "ArrDelayMinutes: 0.972251999294954\n",
      "ArrDelay: 0.9635955887963481\n",
      "DepartureDelayGroups: 0.8230212756224428\n",
      "ArrivalDelayGroups: 0.7720932635831529\n",
      "DepDel15: 0.54935752878461\n",
      "ArrDel15: 0.5090313555168641\n",
      "DepTime: 0.1254656182818311\n",
      "WheelsOff: 0.1158623732377179\n",
      "DepTimeBlk: 0.06658269835492825\n",
      "TaxiOut: 0.045915624237954346\n",
      "ActualElapsedTime: 0.030590810290249848\n",
      "Tail_Number: 0.026821179963078805\n",
      "Marketing_Airline_Network: 0.02646299530151832\n",
      "IATA_Code_Marketing_Airline: 0.02646299530151832\n",
      "ArrTimeBlk: 0.024761832096876355\n",
      "AirTime: 0.024163465639409878\n",
      "CRSElapsedTime: 0.023483846253405355\n",
      "WheelsOn: 0.023268044320780983\n",
      "Distance: 0.022458096761029306\n",
      "ArrTime: 0.015969415970616508\n",
      "TaxiIn: 0.013126364310944164\n",
      "Operated_or_Branded_Code_Share_Partners: 0.006454744496213054\n",
      "DestState: -0.004938433298400229\n",
      "DestStateName: -0.004938433298400229\n",
      "Dest: -0.010474595485545218\n",
      "OriginState: -0.010499964918949018\n",
      "OriginStateName: -0.010499964918949018\n",
      "Airline: -0.011307902658384408\n",
      "Operating_Airline: -0.011307902658384408\n",
      "IATA_Code_Operating_Airline: -0.011307902658384408\n",
      "DestCityName: -0.0114945148200416\n",
      "Origin: -0.013118996393184873\n",
      "OriginCityName: -0.014493301753275683\n"
     ]
    }
   ],
   "source": [
    "from pyspark.sql.functions import col\n",
    "from pyspark.sql.types import DoubleType\n",
    "\n",
    "# Select numeric columns\n",
    "numeric_cols = [f.name for f in df.schema.fields if isinstance(f.dataType, DoubleType)]\n",
    "\n",
    "# Calculate the correlation of 'DepDelay' with all other columns\n",
    "correlations = {c: df.stat.corr('DepDelay', c) for c in numeric_cols if c != 'DepDelay'}\n",
    "\n",
    "# Sort the results\n",
    "sorted_correlations = sorted(correlations.items(), key=lambda x: x[1], reverse=True)\n",
    "\n",
    "for col, corr in sorted_correlations:\n",
    "    print(f\"{col}: {corr}\")\n"
   ]
  },
  {
   "cell_type": "code",
   "execution_count": 67,
   "id": "1799e50b",
   "metadata": {},
   "outputs": [
    {
     "data": {
      "text/plain": [
       "['DepTime',\n",
       " 'DepDelayMinutes',\n",
       " 'ArrDelayMinutes',\n",
       " 'DepDel15',\n",
       " 'DepartureDelayGroups',\n",
       " 'WheelsOff',\n",
       " 'ArrDelay',\n",
       " 'ArrDel15',\n",
       " 'ArrivalDelayGroups']"
      ]
     },
     "execution_count": 67,
     "metadata": {},
     "output_type": "execute_result"
    }
   ],
   "source": [
    "# Select the features with correlation greater than 0.1 with 'DepDelay'\n",
    "selected_features = [col for col, corr in correlations.items() if corr > 0.1]\n",
    "selected_features"
   ]
  },
  {
   "cell_type": "code",
   "execution_count": 68,
   "id": "99ffef56",
   "metadata": {},
   "outputs": [],
   "source": [
    "df = df.drop('FlightDate')\n"
   ]
  },
  {
   "cell_type": "code",
   "execution_count": 69,
   "id": "728b69e0",
   "metadata": {},
   "outputs": [],
   "source": [
    "from pyspark.ml.feature import VectorAssembler\n",
    "from pyspark.ml.regression import RandomForestRegressor\n",
    "\n",
    "# Assuming that your DataFrame is named 'df' and the feature columns are in a list 'selected_features'\n",
    "\n",
    "# First, let's assemble the features into a single vector column\n",
    "assembler = VectorAssembler(inputCols=selected_features, outputCol='features')\n",
    "df = assembler.transform(df)\n",
    "\n",
    "# Now, let's split the data into training and testing sets\n",
    "train_df, test_df = df.randomSplit([0.8, 0.2], seed=42)\n",
    "\n"
   ]
  },
  {
   "cell_type": "code",
   "execution_count": 70,
   "id": "9a5d1468",
   "metadata": {},
   "outputs": [],
   "source": [
    "# Create a Random Forest Regressor\n",
    "rf = RandomForestRegressor(featuresCol='features', labelCol='DepDelay', numTrees=5, maxDepth=10, seed=0)\n",
    "\n",
    "# Train the model\n",
    "model = rf.fit(train_df)\n"
   ]
  },
  {
   "cell_type": "code",
   "execution_count": 71,
   "id": "22f51ebc",
   "metadata": {},
   "outputs": [
    {
     "name": "stdout",
     "output_type": "stream",
     "text": [
      "Mean Absolute Error (MAE): 3.6517883338856367\n",
      "Mean Squared Error (MSE): 522.2024432193721\n",
      "Root Mean Squared Error (RMSE): 22.85174923762669\n"
     ]
    }
   ],
   "source": [
    "from pyspark.ml.evaluation import RegressionEvaluator\n",
    "from math import sqrt\n",
    "\n",
    "# Use the model to make predictions\n",
    "predictions = model.transform(test_df)\n",
    "\n",
    "# Initialize evaluators\n",
    "evaluator_mae = RegressionEvaluator(labelCol=\"DepDelay\", predictionCol=\"prediction\", metricName=\"mae\")\n",
    "evaluator_mse = RegressionEvaluator(labelCol=\"DepDelay\", predictionCol=\"prediction\", metricName=\"mse\")\n",
    "\n",
    "# Calculate the metrics\n",
    "mae = evaluator_mae.evaluate(predictions)\n",
    "mse = evaluator_mse.evaluate(predictions)\n",
    "rmse = sqrt(mse)\n",
    "\n",
    "print(f\"Mean Absolute Error (MAE): {mae}\")\n",
    "print(f\"Mean Squared Error (MSE): {mse}\")\n",
    "print(f\"Root Mean Squared Error (RMSE): {rmse}\")\n",
    "\n"
   ]
  },
  {
   "cell_type": "code",
   "execution_count": 72,
   "id": "b331eaae",
   "metadata": {},
   "outputs": [
    {
     "name": "stdout",
     "output_type": "stream",
     "text": [
      "+---------+--------+----------+-------+---------------+--------+-------+---------------+-------+--------------+-----------------+--------+----+-------+-----+----------+---------+------------------------+-------------------------------+------------------------+-------------------------------+---------------+------------------+------------------+---------------+---------+-------------+----------------+----------------+-------------+-------+--------+--------------------+-------+---------+--------+------+----------+--------+--------+------------------+-------------+------------------+-------+------+----+-------------------------+---------------------------------------+---------------------------+-----------------+---------------------------+-----------+--------------+-----------+---------------+------------+---------+-------------+----------+----------+--------------------+------------------+\n",
      "|Cancelled|Diverted|CRSDepTime|DepTime|DepDelayMinutes|DepDelay|ArrTime|ArrDelayMinutes|AirTime|CRSElapsedTime|ActualElapsedTime|Distance|Year|Quarter|Month|DayofMonth|DayOfWeek|DOT_ID_Marketing_Airline|Flight_Number_Marketing_Airline|DOT_ID_Operating_Airline|Flight_Number_Operating_Airline|OriginAirportID|OriginAirportSeqID|OriginCityMarketID|OriginStateFips|OriginWac|DestAirportID|DestAirportSeqID|DestCityMarketID|DestStateFips|DestWac|DepDel15|DepartureDelayGroups|TaxiOut|WheelsOff|WheelsOn|TaxiIn|CRSArrTime|ArrDelay|ArrDel15|ArrivalDelayGroups|DistanceGroup|DivAirportLandings|Airline|Origin|Dest|Marketing_Airline_Network|Operated_or_Branded_Code_Share_Partners|IATA_Code_Marketing_Airline|Operating_Airline|IATA_Code_Operating_Airline|Tail_Number|OriginCityName|OriginState|OriginStateName|DestCityName|DestState|DestStateName|DepTimeBlk|ArrTimeBlk|            features|        prediction|\n",
      "+---------+--------+----------+-------+---------------+--------+-------+---------------+-------+--------------+-----------------+--------+----+-------+-----+----------+---------+------------------------+-------------------------------+------------------------+-------------------------------+---------------+------------------+------------------+---------------+---------+-------------+----------------+----------------+-------------+-------+--------+--------------------+-------+---------+--------+------+----------+--------+--------+------------------+-------------+------------------+-------+------+----+-------------------------+---------------------------------------+---------------------------+-----------------+---------------------------+-----------+--------------+-----------+---------------+------------+---------+-------------+----------+----------+--------------------+------------------+\n",
      "|        0|       0|         5|    3.0|            0.0|    -2.0|  458.0|            0.0|  147.0|         177.0|            175.0|  1235.0|2022|      2|    4|         3|        7|                   19805|                            557|                   19805|                            557|          12892|           1289208|             32575|              6|       91|        11298|         1129806|           30194|           48|     74|     0.0|                -1.0|   21.0|     24.0|   451.0|   7.0|       502|    -4.0|     0.0|              -1.0|            5|                 0|    2.0|   5.0| 2.0|                      0.0|                                    3.0|                        0.0|              2.0|                        2.0|     2279.0|           8.0|        1.0|            1.0|         3.0|      0.0|          0.0|      16.0|      17.0|[3.0,0.0,0.0,0.0,...|-4.466818022406024|\n",
      "+---------+--------+----------+-------+---------------+--------+-------+---------------+-------+--------------+-----------------+--------+----+-------+-----+----------+---------+------------------------+-------------------------------+------------------------+-------------------------------+---------------+------------------+------------------+---------------+---------+-------------+----------------+----------------+-------------+-------+--------+--------------------+-------+---------+--------+------+----------+--------+--------+------------------+-------------+------------------+-------+------+----+-------------------------+---------------------------------------+---------------------------+-----------------+---------------------------+-----------+--------------+-----------+---------------+------------+---------+-------------+----------+----------+--------------------+------------------+\n",
      "only showing top 1 row\n",
      "\n"
     ]
    }
   ],
   "source": [
    "predictions.show(1)"
   ]
  },
  {
   "cell_type": "code",
   "execution_count": null,
   "id": "a1b79f18",
   "metadata": {},
   "outputs": [],
   "source": []
  },
  {
   "cell_type": "code",
   "execution_count": 73,
   "id": "8e15b7fd",
   "metadata": {},
   "outputs": [
    {
     "name": "stdout",
     "output_type": "stream",
     "text": [
      "+--------+\n",
      "|DepDelay|\n",
      "+--------+\n",
      "|    -2.0|\n",
      "|     0.0|\n",
      "|     1.0|\n",
      "|    -5.0|\n",
      "|    -5.0|\n",
      "+--------+\n",
      "only showing top 5 rows\n",
      "\n"
     ]
    }
   ],
   "source": [
    "predictions.select(\"DepDelay\").show(5)"
   ]
  },
  {
   "cell_type": "code",
   "execution_count": 74,
   "id": "021fcfac",
   "metadata": {},
   "outputs": [
    {
     "name": "stdout",
     "output_type": "stream",
     "text": [
      "+--------------------+\n",
      "|          prediction|\n",
      "+--------------------+\n",
      "|  -4.466818022406024|\n",
      "|-0.01661620249837...|\n",
      "|  1.9664684200816087|\n",
      "| -5.4402399729581346|\n",
      "|  -5.762462274505031|\n",
      "+--------------------+\n",
      "only showing top 5 rows\n",
      "\n"
     ]
    }
   ],
   "source": [
    "predictions.select(\"prediction\").show(5)"
   ]
  },
  {
   "cell_type": "code",
   "execution_count": 75,
   "id": "068bc5b4",
   "metadata": {},
   "outputs": [
    {
     "name": "stdout",
     "output_type": "stream",
     "text": [
      "+---------+--------+----------+-------+---------------+--------+-------+---------------+-------+--------------+-----------------+--------+----+-------+-----+----------+---------+------------------------+-------------------------------+------------------------+-------------------------------+---------------+------------------+------------------+---------------+---------+-------------+----------------+----------------+-------------+-------+--------+--------------------+-------+---------+--------+------+----------+--------+--------+------------------+-------------+------------------+-------+------+----+-------------------------+---------------------------------------+---------------------------+-----------------+---------------------------+-----------+--------------+-----------+---------------+------------+---------+-------------+----------+----------+--------------------+\n",
      "|Cancelled|Diverted|CRSDepTime|DepTime|DepDelayMinutes|DepDelay|ArrTime|ArrDelayMinutes|AirTime|CRSElapsedTime|ActualElapsedTime|Distance|Year|Quarter|Month|DayofMonth|DayOfWeek|DOT_ID_Marketing_Airline|Flight_Number_Marketing_Airline|DOT_ID_Operating_Airline|Flight_Number_Operating_Airline|OriginAirportID|OriginAirportSeqID|OriginCityMarketID|OriginStateFips|OriginWac|DestAirportID|DestAirportSeqID|DestCityMarketID|DestStateFips|DestWac|DepDel15|DepartureDelayGroups|TaxiOut|WheelsOff|WheelsOn|TaxiIn|CRSArrTime|ArrDelay|ArrDel15|ArrivalDelayGroups|DistanceGroup|DivAirportLandings|Airline|Origin|Dest|Marketing_Airline_Network|Operated_or_Branded_Code_Share_Partners|IATA_Code_Marketing_Airline|Operating_Airline|IATA_Code_Operating_Airline|Tail_Number|OriginCityName|OriginState|OriginStateName|DestCityName|DestState|DestStateName|DepTimeBlk|ArrTimeBlk|            features|\n",
      "+---------+--------+----------+-------+---------------+--------+-------+---------------+-------+--------------+-----------------+--------+----+-------+-----+----------+---------+------------------------+-------------------------------+------------------------+-------------------------------+---------------+------------------+------------------+---------------+---------+-------------+----------------+----------------+-------------+-------+--------+--------------------+-------+---------+--------+------+----------+--------+--------+------------------+-------------+------------------+-------+------+----+-------------------------+---------------------------------------+---------------------------+-----------------+---------------------------+-----------+--------------+-----------+---------------+------------+---------+-------------+----------+----------+--------------------+\n",
      "|        0|       0|         5|    1.0|            0.0|    -4.0|  455.0|            0.0|  158.0|         185.0|            174.0|  1299.0|2022|      2|    4|         1|        5|                   19790|                            808|                   19790|                            808|          12889|           1288903|             32211|             32|       85|        13487|         1348702|           31650|           27|     63|     0.0|                -1.0|   11.0|     12.0|   450.0|   5.0|       510|   -15.0|     0.0|              -1.0|            6|                 0|    1.0|   8.0|18.0|                      1.0|                                    2.0|                        1.0|              1.0|                        1.0|     1874.0|          11.0|       11.0|           11.0|        17.0|     17.0|         17.0|      16.0|      17.0|[1.0,0.0,0.0,0.0,...|\n",
      "+---------+--------+----------+-------+---------------+--------+-------+---------------+-------+--------------+-----------------+--------+----+-------+-----+----------+---------+------------------------+-------------------------------+------------------------+-------------------------------+---------------+------------------+------------------+---------------+---------+-------------+----------------+----------------+-------------+-------+--------+--------------------+-------+---------+--------+------+----------+--------+--------+------------------+-------------+------------------+-------+------+----+-------------------------+---------------------------------------+---------------------------+-----------------+---------------------------+-----------+--------------+-----------+---------------+------------+---------+-------------+----------+----------+--------------------+\n",
      "only showing top 1 row\n",
      "\n"
     ]
    }
   ],
   "source": [
    "train_df.show(1)"
   ]
  },
  {
   "cell_type": "code",
   "execution_count": 76,
   "id": "030fa971",
   "metadata": {},
   "outputs": [],
   "source": [
    "# Create a Random Forest Regressor\n",
    "rf = RandomForestRegressor(featuresCol='features', labelCol='DepDelay', numTrees=25, maxDepth=10, seed=0)\n",
    "\n",
    "# Train the model\n",
    "model2 = rf.fit(train_df)"
   ]
  },
  {
   "cell_type": "code",
   "execution_count": 77,
   "id": "be3fb61a",
   "metadata": {},
   "outputs": [
    {
     "name": "stdout",
     "output_type": "stream",
     "text": [
      "Mean Absolute Error (MAE): 3.5274226194573437\n",
      "Mean Squared Error (MSE): 527.264376280514\n",
      "Root Mean Squared Error (RMSE): 22.962238050340694\n"
     ]
    }
   ],
   "source": [
    "# Use the model to make predictions\n",
    "predictions = model2.transform(test_df)\n",
    "\n",
    "# Initialize evaluators\n",
    "evaluator_mae = RegressionEvaluator(labelCol=\"DepDelay\", predictionCol=\"prediction\", metricName=\"mae\")\n",
    "evaluator_mse = RegressionEvaluator(labelCol=\"DepDelay\", predictionCol=\"prediction\", metricName=\"mse\")\n",
    "\n",
    "# Calculate the metrics\n",
    "mae = evaluator_mae.evaluate(predictions)\n",
    "mse = evaluator_mse.evaluate(predictions)\n",
    "rmse = sqrt(mse)\n",
    "\n",
    "print(f\"Mean Absolute Error (MAE): {mae}\")\n",
    "print(f\"Mean Squared Error (MSE): {mse}\")\n",
    "print(f\"Root Mean Squared Error (RMSE): {rmse}\")"
   ]
  },
  {
   "cell_type": "code",
   "execution_count": 78,
   "id": "dca6004d",
   "metadata": {},
   "outputs": [],
   "source": [
    "from pyspark.ml.tuning import ParamGridBuilder, CrossValidator\n",
    "\n",
    "# Create a RandomForestRegressor\n",
    "rf = RandomForestRegressor(featuresCol='features', labelCol='DepDelay')\n",
    "\n",
    "# Define the parameter grid\n",
    "paramGrid = (ParamGridBuilder()\n",
    "             .addGrid(rf.numTrees, [5, 10, 12])  # number of trees\n",
    "             .addGrid(rf.maxDepth, [5, 10, 12])  # maximum depth\n",
    "             .addGrid(rf.maxBins, [32, 64, 100])  # max number of bins\n",
    "             .build())\n",
    "\n",
    "# Define a regression evaluator\n",
    "evaluator = RegressionEvaluator(labelCol=\"DepDelay\", predictionCol=\"prediction\", metricName=\"rmse\")\n",
    "\n",
    "# Create a 3-fold CrossValidator\n",
    "cv = CrossValidator(estimator=rf, estimatorParamMaps=paramGrid, evaluator=evaluator, numFolds=3)\n",
    "\n",
    "# Run cross-validation, and choose the best set of parameters. \n",
    "cvModel = cv.fit(train_df)\n",
    "\n"
   ]
  },
  {
   "cell_type": "code",
   "execution_count": 79,
   "id": "60d30c6f",
   "metadata": {},
   "outputs": [],
   "source": [
    "# from pyspark.ml.regression import RandomForestRegressor\n",
    "\n",
    "# # Create a RandomForestRegressor\n",
    "# rf1 = RandomForestRegressor(\n",
    "#     numTrees=5,  # number of trees\n",
    "#     maxDepth=10,  # maximum depth\n",
    "#     minInstancesPerNode=2,  # min_samples_leaf equivalent in PySpark\n",
    "#     minInfoGain=0.0,  # min_samples_split equivalent in PySpark\n",
    "#     maxMemoryInMB=256,  # max_features equivalent in PySpark\n",
    "#     seed=0  # for reproducibility\n",
    "# )\n",
    "# # Train the model\n",
    "# model3 = rf1.fit(train_df)\n"
   ]
  },
  {
   "cell_type": "code",
   "execution_count": 80,
   "id": "eb2251d3",
   "metadata": {},
   "outputs": [],
   "source": [
    "# # Use the model to make predictions\n",
    "# predictions = model3.transform(test_df)\n",
    "\n",
    "# # Initialize evaluators\n",
    "# evaluator_mae = RegressionEvaluator(labelCol=\"DepDelay\", predictionCol=\"prediction\", metricName=\"mae\")\n",
    "# evaluator_mse = RegressionEvaluator(labelCol=\"DepDelay\", predictionCol=\"prediction\", metricName=\"mse\")\n",
    "\n",
    "# # Calculate the metrics\n",
    "# mae = evaluator_mae.evaluate(predictions)\n",
    "# mse = evaluator_mse.evaluate(predictions)\n",
    "# rmse = sqrt(mse)\n",
    "\n",
    "# print(f\"Mean Absolute Error (MAE): {mae}\")\n",
    "# print(f\"Mean Squared Error (MSE): {mse}\")\n",
    "# print(f\"Root Mean Squared Error (RMSE): {rmse}\")"
   ]
  },
  {
   "cell_type": "code",
   "execution_count": null,
   "id": "97430d7e",
   "metadata": {},
   "outputs": [],
   "source": []
  },
  {
   "cell_type": "code",
   "execution_count": null,
   "id": "479e5f5d",
   "metadata": {},
   "outputs": [],
   "source": []
  },
  {
   "cell_type": "markdown",
   "id": "cc59590f",
   "metadata": {},
   "source": [
    "# Model Save"
   ]
  },
  {
   "cell_type": "code",
   "execution_count": 81,
   "id": "c37cb10d",
   "metadata": {},
   "outputs": [],
   "source": [
    "# Save the model\n",
    "# model2.write().overwrite().save(r\"D:\\CDAC_DBDA\\Final Project\\Model_In_Pyspark\")\n"
   ]
  },
  {
   "cell_type": "code",
   "execution_count": 82,
   "id": "08011f45",
   "metadata": {},
   "outputs": [],
   "source": [
    "# from pyspark.ml.regression import RandomForestRegressionModel\n",
    "\n",
    "# # Load the model\n",
    "# loaded_model = RandomForestRegressionModel.load(\"/path/to/save/model\")\n"
   ]
  },
  {
   "cell_type": "markdown",
   "id": "e8a854c5",
   "metadata": {},
   "source": [
    "# XGB"
   ]
  },
  {
   "cell_type": "code",
   "execution_count": 83,
   "id": "4f7a5129",
   "metadata": {},
   "outputs": [
    {
     "name": "stdout",
     "output_type": "stream",
     "text": [
      "Root Mean Squared Error (RMSE) on test data: 22.284265394107724\n"
     ]
    }
   ],
   "source": [
    "from pyspark.ml.regression import GBTRegressor\n",
    "from pyspark.ml.evaluation import RegressionEvaluator\n",
    "\n",
    "# Define the parameters for the GBTRegressor model\n",
    "gbt = GBTRegressor(featuresCol=\"features\", labelCol=\"DepDelay\", maxDepth=6)\n",
    "\n",
    "# Train the model\n",
    "model = gbt.fit(train_df)\n",
    "\n",
    "# Make predictions on the test data\n",
    "predictions = model.transform(test_df)\n",
    "\n",
    "# Initialize evaluator\n",
    "evaluator = RegressionEvaluator(labelCol=\"DepDelay\", predictionCol=\"prediction\", metricName=\"rmse\")\n",
    "\n",
    "# Calculate RMSE\n",
    "rmse = evaluator.evaluate(predictions)\n",
    "\n",
    "print(f\"Root Mean Squared Error (RMSE) on test data: {rmse}\")\n",
    "\n"
   ]
  },
  {
   "cell_type": "code",
   "execution_count": null,
   "id": "84896101",
   "metadata": {},
   "outputs": [],
   "source": []
  },
  {
   "cell_type": "code",
   "execution_count": 85,
   "id": "e991f9a0",
   "metadata": {},
   "outputs": [],
   "source": [
    "spark.stop()\n",
    "# "
   ]
  },
  {
   "cell_type": "code",
   "execution_count": null,
   "id": "30d13565",
   "metadata": {},
   "outputs": [],
   "source": []
  },
  {
   "cell_type": "code",
   "execution_count": null,
   "id": "0f20fc39",
   "metadata": {},
   "outputs": [],
   "source": []
  },
  {
   "cell_type": "code",
   "execution_count": null,
   "id": "9701dba7",
   "metadata": {},
   "outputs": [],
   "source": []
  },
  {
   "cell_type": "code",
   "execution_count": null,
   "id": "0f0593e7",
   "metadata": {},
   "outputs": [],
   "source": []
  },
  {
   "cell_type": "code",
   "execution_count": null,
   "id": "79cd63b4",
   "metadata": {},
   "outputs": [],
   "source": []
  }
 ],
 "metadata": {
  "kernelspec": {
   "display_name": "PYSPARK_KERNEL",
   "language": "python",
   "name": "pyspark_kernel"
  },
  "language_info": {
   "codemirror_mode": {
    "name": "ipython",
    "version": 3
   },
   "file_extension": ".py",
   "mimetype": "text/x-python",
   "name": "python",
   "nbconvert_exporter": "python",
   "pygments_lexer": "ipython3",
   "version": "3.11.4"
  }
 },
 "nbformat": 4,
 "nbformat_minor": 5
}
